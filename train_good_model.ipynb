{
 "cells": [
  {
   "cell_type": "markdown",
   "metadata": {},
   "source": [
    "# Basic Training\n",
    "No mixup in Training"
   ]
  },
  {
   "cell_type": "code",
   "execution_count": 1,
   "metadata": {},
   "outputs": [],
   "source": [
    "import os, glob, re, cv2\n",
    "import numpy as np\n",
    "import pandas as pd\n",
    "import matplotlib.pyplot as plt\n",
    "import tensorflow as tf\n",
    "import random\n",
    "\n",
    "import matplotlib.pyplot as plt\n",
    "%matplotlib inline\n",
    "\n",
    "import seaborn as sns\n",
    "\n",
    "from sklearn.model_selection import train_test_split\n",
    "\n",
    "from tensorflow import keras\n",
    "from tensorflow.keras import layers, activations, optimizers, losses, metrics, initializers\n",
    "from tensorflow.keras.preprocessing import image, image_dataset_from_directory\n",
    "from tensorflow.keras.applications.resnet_v2 import preprocess_input, decode_predictions\n",
    "\n",
    "import sklearn\n",
    "from keras import utils\n",
    "from sklearn.preprocessing import LabelEncoder"
   ]
  },
  {
   "cell_type": "code",
   "execution_count": 2,
   "metadata": {},
   "outputs": [],
   "source": [
    "# dir_path points towards where to find the image dataset\n",
    "dir_path = \"Alzheimer's Disease\"\n",
    "IMAGE_SHAPE = (224, 224)\n",
    "\n",
    "random_sample = 1\n",
    "\n",
    "# IMPORTANT - Check these are correct\n",
    "\n",
    "MIXUP = True # Whether to train the model with mixup\n",
    "ITERS = 1 # How many mixup images to create per image\n",
    "BETA = True # Whether to sample from the beta function\n",
    "AUG = True # whether to augment the data"
   ]
  },
  {
   "cell_type": "code",
   "execution_count": 3,
   "metadata": {},
   "outputs": [
    {
     "data": {
      "text/plain": [
       "(6400, 6400)"
      ]
     },
     "execution_count": 3,
     "metadata": {},
     "output_type": "execute_result"
    }
   ],
   "source": [
    "# Read the folders folders\n",
    "directories = os.listdir(dir_path)\n",
    "\n",
    "files = [] \n",
    "labels = []\n",
    "\n",
    "# Read files for each directory\n",
    "for folder in directories:\n",
    "    \n",
    "    fileList = glob.glob(f'{dir_path}/{folder}/*')\n",
    "    labels.extend([folder for _ in fileList])\n",
    "    files.extend(fileList)\n",
    "\n",
    "len(files), len(labels)"
   ]
  },
  {
   "cell_type": "code",
   "execution_count": 4,
   "metadata": {},
   "outputs": [
    {
     "name": "stdout",
     "output_type": "stream",
     "text": [
      "{'Demented': 3200, 'NonDem': 3200}\n"
     ]
    }
   ],
   "source": [
    "# Count the number of labels to get an idea of how balanced the dataset is\n",
    "unique, counts = np.unique(labels, return_counts=True)\n",
    "print(dict(zip(unique, counts)))"
   ]
  },
  {
   "cell_type": "code",
   "execution_count": 5,
   "metadata": {},
   "outputs": [
    {
     "name": "stdout",
     "output_type": "stream",
     "text": [
      "Classes are ['Demented' 'NonDem']\n"
     ]
    }
   ],
   "source": [
    "# One hot encoding\n",
    "\n",
    "# Encode class values as integers\n",
    "encoder = LabelEncoder()\n",
    "encoder.fit(labels)\n",
    "encoded_Y = encoder.transform(labels)\n",
    "\n",
    "# convert integers to dummy variables (i.e. one hot encoded)\n",
    "dummy_y = utils.to_categorical(encoded_Y,dtype =\"uint8\", num_classes = 2)\n",
    "\n",
    "labels = np.array(dummy_y)\n",
    "\n",
    "print(f\"Classes are {encoder.classes_}\")"
   ]
  },
  {
   "cell_type": "code",
   "execution_count": 6,
   "metadata": {},
   "outputs": [],
   "source": [
    "# The data augmentation to do. This applies a random horizontal flip and a random tilt.\n",
    "data_augmentation = tf.keras.Sequential([\n",
    "  layers.RandomFlip(\"horizontal\"),\n",
    "  layers.RandomRotation((-0.05, 0.05)),\n",
    "])\n",
    "\n",
    "# create prepare_image method\n",
    "# used to preprocess the image for efficientNet model\n",
    "\n",
    "def prepare_image(file1: str, label1: str, file2: str = None, label2: str = None, beta = False, augment = True):\n",
    "    \"\"\"Prepares the image for the model\n",
    "\n",
    "    Args:\n",
    "        file1 (str): The path of  the first image\n",
    "        label1 (str): The label of the first image\n",
    "        file2 (str, optional): The path of  the second image. If not none, applies mixup. Defaults to None.\n",
    "        label2 (str, optional): The label of the second image. Defaults to None.\n",
    "        beta (bool, optional): If true, sample from teh beta function for mixup. Defaults to False.\n",
    "        augment (bool, optional): If true, apply augmentations. Defaults to True.\n",
    "\n",
    "    Returns:\n",
    "        image, label\n",
    "    \"\"\"\n",
    "\n",
    "    # Load the first image, apply augmentations\n",
    "    img1 = image.load_img(file1, target_size=IMAGE_SHAPE)\n",
    "    if augment:\n",
    "        img1 = data_augmentation(img1)\n",
    "        \n",
    "    img_array = image.img_to_array(img1)\n",
    "    label = label1\n",
    "\n",
    "    if file2:\n",
    "\n",
    "        # Load second image, apply augmentations\n",
    "        img2 = image.load_img(file2, target_size=IMAGE_SHAPE)\n",
    "        if augment:\n",
    "            img2 = data_augmentation(img2)\n",
    "        img_array2 = image.img_to_array(img2)\n",
    "\n",
    "        # Generate alpha value for MixUp\n",
    "        alpha = 0\n",
    "        if beta:\n",
    "            alpha = np.random.beta(0.2, 0.2, 1)\n",
    "        else:\n",
    "            alpha = random.random()\n",
    "\n",
    "        # Combine the 2 images \n",
    "        img_array = (alpha * img_array) + ((1-alpha) * img_array2)\n",
    "        label     = (alpha * label1) +    ((1-alpha) * label2)\n",
    "\n",
    "    return tf.keras.applications.efficientnet.preprocess_input(img_array), label"
   ]
  },
  {
   "cell_type": "code",
   "execution_count": 7,
   "metadata": {},
   "outputs": [],
   "source": [
    "# Split the data into testing, training and validation data\n",
    "\n",
    "x_train, x_tv, y_train, y_tv = train_test_split(files, labels, test_size=.05, random_state = random_sample) \n",
    "x_test, x_val, y_test, y_val = train_test_split(x_tv, y_tv, test_size=.5, random_state = random_sample) \n",
    "x_test_A, x_test_B, y_test_A, y_test_B = train_test_split(x_test, y_test, test_size=.7, random_state = random_sample) # Have 2 test sets"
   ]
  },
  {
   "cell_type": "code",
   "execution_count": 8,
   "metadata": {},
   "outputs": [
    {
     "name": "stdout",
     "output_type": "stream",
     "text": [
      "48 112 160 6080\n"
     ]
    }
   ],
   "source": [
    "print(len(x_test_A), len(x_test_B), len(x_val), len(x_train))"
   ]
  },
  {
   "cell_type": "code",
   "execution_count": 9,
   "metadata": {},
   "outputs": [
    {
     "name": "stdout",
     "output_type": "stream",
     "text": [
      "Preparing the images...\n",
      "Preparing training data\n"
     ]
    },
    {
     "name": "stdout",
     "output_type": "stream",
     "text": [
      "Preparing testing data\n",
      "Preparing validation data\n",
      "Finished.\n"
     ]
    }
   ],
   "source": [
    "# The dictionary holds list of images and for each one has its target/label\n",
    "images = {\n",
    "    'image_train': [], \n",
    "    'target_train': [],\n",
    "    'image_test': [], \n",
    "    'target_test': [],\n",
    "    'image_val': [],\n",
    "    'target_val': []\n",
    "}\n",
    "\n",
    "print('Preparing the images...')\n",
    "\n",
    "print(\"Preparing training data\")\n",
    "for file, label in zip(x_train, y_train):\n",
    "    # Only go through training data, testing data should not be used for mixup\n",
    "\n",
    "\n",
    "    if MIXUP == False:\n",
    "        # Prepare image without mixup\n",
    "        new_file, new_label = prepare_image(file, label, beta = BETA, augment = AUG)\n",
    "        images['image_train'].append(new_file)\n",
    "        images['target_train'].append(new_label)\n",
    "\n",
    "    elif MIXUP == True:\n",
    "        # Prepare image with mixup\n",
    "        # Iterate through the number of ITERS\n",
    "        for i in range(ITERS):\n",
    "            diff_label = False\n",
    "            \n",
    "            while diff_label == False:\n",
    "                # Select a random file index\n",
    "                random_file_i = random.randint(0,len(files)-1)\n",
    "                # Mixup the two images\n",
    "                new_file, new_label = prepare_image(file, label, files[random_file_i],labels[random_file_i], beta = BETA, augment = AUG)\n",
    "                \n",
    "                if new_label[0] != label[0]:\n",
    "                    diff_label = True\n",
    "\n",
    "            images['image_train'].append(new_file)\n",
    "            images['target_train'].append(new_label)\n",
    "\n",
    "print(\"Preparing testing data\")\n",
    "for file, label in zip(x_test_A, y_test_A):\n",
    "\n",
    "    # Prepare the image\n",
    "    new_file, new_label = prepare_image(file, label, augment = False)\n",
    "    images['image_test'].append(new_file)\n",
    "    images['target_test'].append(new_label)\n",
    "\n",
    "print(\"Preparing validation data\")\n",
    "for file, label in zip(x_val, y_val):\n",
    "\n",
    "    # Prepare the image\n",
    "    new_file, new_label = prepare_image(file, label, augment = False)\n",
    "    images['image_val'].append(new_file)\n",
    "    images['target_val'].append(new_label)\n",
    "\n",
    "print('Finished.')"
   ]
  },
  {
   "cell_type": "code",
   "execution_count": 10,
   "metadata": {},
   "outputs": [
    {
     "name": "stdout",
     "output_type": "stream",
     "text": [
      "Demented: 3028.9868323269175  Non Demented: 3051.0131676730844\n"
     ]
    }
   ],
   "source": [
    "class_counts = [sum(col) for col in zip(*images['target_train'])]\n",
    "print(f\"Demented: {class_counts[0]}  Non Demented: {class_counts[1]}\")"
   ]
  },
  {
   "cell_type": "code",
   "execution_count": 11,
   "metadata": {},
   "outputs": [],
   "source": [
    "# convert lists to arrays \n",
    "x_train = np.array(images['image_train'])\n",
    "y_train = np.array(images['target_train'])\n",
    "x_test  = np.array(images['image_test'])\n",
    "y_test  = np.array(images['target_test'])\n",
    "x_val   = np.array(images['image_val'])\n",
    "y_val   = np.array(images['target_val'])"
   ]
  },
  {
   "cell_type": "code",
   "execution_count": 12,
   "metadata": {},
   "outputs": [],
   "source": [
    "# The code is creating a ResNet152V2 model with pre-trained weights from the ImageNet dataset. \n",
    "# The base model is frozen, meaning its weights will not be updated during training. \n",
    "# The code then appends additional layers on top of the base model for transfer learning.\n",
    "\n",
    "from tensorflow.keras.applications import resnet_v2\n",
    "base_model = resnet_v2.ResNet152V2(\n",
    "    include_top=False,\n",
    "    weights='imagenet',\n",
    "    input_shape=(*IMAGE_SHAPE, 3),\n",
    "    classes=3)\n",
    "\n",
    "# Freeze the base_model\n",
    "base_model.trainable = False\n",
    "\n",
    "# append my own layers on the top of the model for Transfer Learning\n",
    "x = base_model.output\n",
    "\n",
    "# 1st conv block\n",
    "x = layers.Conv2D(256, 3, padding='same')(x)\n",
    "x = layers.BatchNormalization()(x)\n",
    "x = layers.Activation('relu')(x)\n",
    "x = layers.GlobalAveragePooling2D(keepdims = True)(x)\n",
    "\n",
    "# 2nd conv block\n",
    "x = layers.Conv2D(128, 3, padding='same')(x)\n",
    "x = layers.BatchNormalization()(x)\n",
    "x = layers.Activation('relu')(x)\n",
    "x = layers.GlobalAveragePooling2D(keepdims = True)(x)\n",
    "\n",
    "# 1st FC layer\n",
    "x = layers.Flatten()(x) \n",
    "x = layers.Dense(64)(x)\n",
    "x = layers.BatchNormalization()(x)\n",
    "x = layers.Activation('relu')(x)\n",
    "\n",
    "# 2nd FC layer\n",
    "x = layers.Dense(32, activation = 'relu')(x)\n",
    "x = layers.BatchNormalization()(x)\n",
    "x = layers.Activation('relu')(x)\n",
    "x = layers.Dropout(.2)(x)\n",
    "\n",
    "x = layers.Dense(2, 'softmax')(x)\n",
    "\n",
    "incept_model = keras.models.Model(inputs = base_model.input, outputs = x)\n",
    "\n",
    "# compile the model\n",
    "incept_model.compile(optimizer=optimizers.RMSprop(.001), loss = losses.categorical_crossentropy, metrics= [metrics.CategoricalAccuracy()])\n",
    "\n",
    "# incept_model.summary()"
   ]
  },
  {
   "cell_type": "code",
   "execution_count": 13,
   "metadata": {},
   "outputs": [
    {
     "name": "stdout",
     "output_type": "stream",
     "text": [
      "Epoch 1/50\n",
      "190/190 [==============================] - ETA: 0s - loss: 0.7006 - categorical_accuracy: 0.6058"
     ]
    },
    {
     "name": "stderr",
     "output_type": "stream",
     "text": [
      "c:\\Users\\Will Poulett\\AppData\\Local\\Programs\\Python\\Python311\\Lib\\site-packages\\keras\\src\\engine\\training.py:3000: UserWarning: You are saving your model as an HDF5 file via `model.save()`. This file format is considered legacy. We recommend using instead the native Keras format, e.g. `model.save('my_model.keras')`.\n",
      "  saving_api.save_model(\n"
     ]
    },
    {
     "name": "stdout",
     "output_type": "stream",
     "text": [
      "190/190 [==============================] - 447s 2s/step - loss: 0.7006 - categorical_accuracy: 0.6058 - val_loss: 0.8346 - val_categorical_accuracy: 0.5875\n",
      "Epoch 2/50\n",
      "190/190 [==============================] - 523s 3s/step - loss: 0.6617 - categorical_accuracy: 0.6293 - val_loss: 0.6165 - val_categorical_accuracy: 0.6000\n",
      "Epoch 3/50\n",
      "190/190 [==============================] - 563s 3s/step - loss: 0.6442 - categorical_accuracy: 0.6398 - val_loss: 1.2404 - val_categorical_accuracy: 0.4437\n",
      "Epoch 4/50\n",
      "190/190 [==============================] - 551s 3s/step - loss: 0.6391 - categorical_accuracy: 0.6484 - val_loss: 0.6744 - val_categorical_accuracy: 0.6062\n",
      "Epoch 5/50\n",
      "190/190 [==============================] - 486s 3s/step - loss: 0.6293 - categorical_accuracy: 0.6546 - val_loss: 0.6271 - val_categorical_accuracy: 0.6687\n",
      "Epoch 6/50\n",
      "190/190 [==============================] - 500s 3s/step - loss: 0.6243 - categorical_accuracy: 0.6602 - val_loss: 1.6044 - val_categorical_accuracy: 0.4437\n",
      "Epoch 7/50\n",
      "190/190 [==============================] - 477s 3s/step - loss: 0.6204 - categorical_accuracy: 0.6602 - val_loss: 0.5842 - val_categorical_accuracy: 0.7188\n",
      "Epoch 8/50\n",
      "190/190 [==============================] - 459s 2s/step - loss: 0.6189 - categorical_accuracy: 0.6617 - val_loss: 0.6958 - val_categorical_accuracy: 0.5375\n",
      "Epoch 9/50\n",
      "190/190 [==============================] - 463s 2s/step - loss: 0.6166 - categorical_accuracy: 0.6696 - val_loss: 0.8130 - val_categorical_accuracy: 0.4437\n",
      "Epoch 10/50\n",
      "190/190 [==============================] - 475s 2s/step - loss: 0.6141 - categorical_accuracy: 0.6717 - val_loss: 0.6459 - val_categorical_accuracy: 0.6625\n",
      "Epoch 11/50\n",
      "190/190 [==============================] - 498s 3s/step - loss: 0.6102 - categorical_accuracy: 0.6669 - val_loss: 1.0767 - val_categorical_accuracy: 0.4437\n",
      "Epoch 12/50\n",
      "190/190 [==============================] - 490s 3s/step - loss: 0.6073 - categorical_accuracy: 0.6709 - val_loss: 3.6245 - val_categorical_accuracy: 0.4437\n",
      "Epoch 13/50\n",
      "190/190 [==============================] - 489s 3s/step - loss: 0.6060 - categorical_accuracy: 0.6696 - val_loss: 0.5388 - val_categorical_accuracy: 0.7125\n",
      "Epoch 14/50\n",
      "190/190 [==============================] - 490s 3s/step - loss: 0.6015 - categorical_accuracy: 0.6855 - val_loss: 0.9403 - val_categorical_accuracy: 0.6187\n",
      "Epoch 15/50\n",
      "190/190 [==============================] - 473s 2s/step - loss: 0.5969 - categorical_accuracy: 0.6822 - val_loss: 0.5811 - val_categorical_accuracy: 0.7000\n",
      "Epoch 16/50\n",
      "190/190 [==============================] - 467s 2s/step - loss: 0.5908 - categorical_accuracy: 0.6806 - val_loss: 1.9958 - val_categorical_accuracy: 0.5813\n",
      "Epoch 17/50\n",
      "190/190 [==============================] - 460s 2s/step - loss: 0.5936 - categorical_accuracy: 0.6849 - val_loss: 0.5511 - val_categorical_accuracy: 0.6938\n",
      "Epoch 18/50\n",
      "190/190 [==============================] - 451s 2s/step - loss: 0.5916 - categorical_accuracy: 0.6859 - val_loss: 1.4388 - val_categorical_accuracy: 0.4500\n",
      "Epoch 19/50\n",
      "190/190 [==============================] - 464s 2s/step - loss: 0.5892 - categorical_accuracy: 0.6936 - val_loss: 0.7529 - val_categorical_accuracy: 0.7000\n",
      "Epoch 20/50\n",
      "190/190 [==============================] - 455s 2s/step - loss: 0.5832 - categorical_accuracy: 0.6919 - val_loss: 1.6904 - val_categorical_accuracy: 0.5813\n",
      "Epoch 21/50\n",
      "190/190 [==============================] - 479s 3s/step - loss: 0.5791 - categorical_accuracy: 0.7002 - val_loss: 0.6962 - val_categorical_accuracy: 0.6750\n",
      "Epoch 22/50\n",
      "190/190 [==============================] - 453s 2s/step - loss: 0.5795 - categorical_accuracy: 0.7002 - val_loss: 0.8387 - val_categorical_accuracy: 0.6313\n",
      "Epoch 23/50\n",
      "190/190 [==============================] - 460s 2s/step - loss: 0.5777 - categorical_accuracy: 0.7056 - val_loss: 1.7377 - val_categorical_accuracy: 0.5000\n",
      "Epoch 24/50\n",
      "190/190 [==============================] - 517s 3s/step - loss: 0.5738 - categorical_accuracy: 0.7003 - val_loss: 0.9958 - val_categorical_accuracy: 0.5188\n",
      "Epoch 25/50\n",
      "190/190 [==============================] - 529s 3s/step - loss: 0.5741 - categorical_accuracy: 0.7076 - val_loss: 2.5890 - val_categorical_accuracy: 0.5250\n",
      "Epoch 26/50\n",
      "190/190 [==============================] - 577s 3s/step - loss: 0.5732 - categorical_accuracy: 0.7020 - val_loss: 1.8969 - val_categorical_accuracy: 0.5938\n",
      "Epoch 27/50\n",
      "190/190 [==============================] - 541s 3s/step - loss: 0.5720 - categorical_accuracy: 0.6993 - val_loss: 1.0653 - val_categorical_accuracy: 0.6250\n",
      "Epoch 28/50\n",
      "190/190 [==============================] - 563s 3s/step - loss: 0.5673 - categorical_accuracy: 0.7089 - val_loss: 2.8192 - val_categorical_accuracy: 0.5562\n",
      "Epoch 29/50\n",
      "190/190 [==============================] - 534s 3s/step - loss: 0.5705 - categorical_accuracy: 0.7074 - val_loss: 1.2912 - val_categorical_accuracy: 0.6812\n",
      "Epoch 30/50\n",
      "190/190 [==============================] - 2587s 14s/step - loss: 0.5622 - categorical_accuracy: 0.7207 - val_loss: 0.7822 - val_categorical_accuracy: 0.6438\n",
      "Epoch 31/50\n",
      "190/190 [==============================] - 426s 2s/step - loss: 0.5593 - categorical_accuracy: 0.7189 - val_loss: 1.5136 - val_categorical_accuracy: 0.4437\n",
      "Epoch 32/50\n",
      "190/190 [==============================] - 436s 2s/step - loss: 0.5582 - categorical_accuracy: 0.7202 - val_loss: 8.5309 - val_categorical_accuracy: 0.4437\n",
      "Epoch 33/50\n",
      "190/190 [==============================] - 444s 2s/step - loss: 0.5531 - categorical_accuracy: 0.7179 - val_loss: 3.6054 - val_categorical_accuracy: 0.5875\n",
      "Epoch 34/50\n",
      "190/190 [==============================] - 440s 2s/step - loss: 0.5570 - categorical_accuracy: 0.7161 - val_loss: 4.3754 - val_categorical_accuracy: 0.4437\n",
      "Epoch 35/50\n",
      "190/190 [==============================] - 446s 2s/step - loss: 0.5492 - categorical_accuracy: 0.7291 - val_loss: 0.6649 - val_categorical_accuracy: 0.5625\n",
      "Epoch 36/50\n",
      "190/190 [==============================] - 439s 2s/step - loss: 0.5517 - categorical_accuracy: 0.7235 - val_loss: 0.7558 - val_categorical_accuracy: 0.7000\n",
      "Epoch 37/50\n",
      "190/190 [==============================] - 465s 2s/step - loss: 0.5382 - categorical_accuracy: 0.7339 - val_loss: 0.8305 - val_categorical_accuracy: 0.6875\n",
      "Epoch 38/50\n",
      "190/190 [==============================] - 474s 2s/step - loss: 0.5403 - categorical_accuracy: 0.7383 - val_loss: 4.1854 - val_categorical_accuracy: 0.4437\n",
      "Epoch 39/50\n",
      "190/190 [==============================] - 498s 3s/step - loss: 0.5402 - categorical_accuracy: 0.7337 - val_loss: 1.0200 - val_categorical_accuracy: 0.6187\n",
      "Epoch 40/50\n",
      "190/190 [==============================] - 504s 3s/step - loss: 0.5290 - categorical_accuracy: 0.7416 - val_loss: 0.6322 - val_categorical_accuracy: 0.6125\n",
      "Epoch 41/50\n",
      "190/190 [==============================] - 505s 3s/step - loss: 0.5316 - categorical_accuracy: 0.7375 - val_loss: 1.0654 - val_categorical_accuracy: 0.5437\n",
      "Epoch 42/50\n",
      "190/190 [==============================] - 476s 3s/step - loss: 0.5302 - categorical_accuracy: 0.7428 - val_loss: 0.7226 - val_categorical_accuracy: 0.6875\n",
      "Epoch 43/50\n",
      "190/190 [==============================] - 446s 2s/step - loss: 0.5285 - categorical_accuracy: 0.7447 - val_loss: 1.8774 - val_categorical_accuracy: 0.4500\n",
      "Epoch 44/50\n",
      "190/190 [==============================] - 500s 3s/step - loss: 0.5250 - categorical_accuracy: 0.7495 - val_loss: 3.0201 - val_categorical_accuracy: 0.5625\n",
      "Epoch 45/50\n",
      "190/190 [==============================] - 491s 3s/step - loss: 0.5258 - categorical_accuracy: 0.7465 - val_loss: 1.5692 - val_categorical_accuracy: 0.6000\n",
      "Epoch 46/50\n",
      "190/190 [==============================] - 477s 3s/step - loss: 0.5172 - categorical_accuracy: 0.7512 - val_loss: 0.6856 - val_categorical_accuracy: 0.5625\n",
      "Epoch 47/50\n",
      " 61/190 [========>.....................] - ETA: 5:09 - loss: 0.5276 - categorical_accuracy: 0.7459"
     ]
    }
   ],
   "source": [
    "EPOCHS = 50\n",
    "# Trains and returns incept_model. fit ( x_train y_train )\n",
    "earlyStop = keras.callbacks.EarlyStopping(patience=60) \n",
    "best_model = keras.callbacks.ModelCheckpoint(filepath='good_model_mixup.h5', save_best_only=True) \n",
    "\n",
    "with tf.device('/gpu:0'):\n",
    "    history = incept_model.fit(x_train, y_train, batch_size=32, epochs=EPOCHS, validation_data=(x_val, y_val), callbacks=[earlyStop, best_model])"
   ]
  },
  {
   "cell_type": "code",
   "execution_count": null,
   "metadata": {},
   "outputs": [],
   "source": [
    "# Load the model with the best validation score\n",
    "incept_model = keras.models.load_model(\"good_model_mixup.h5\")\n",
    "\n",
    "incept_model.evaluate(x=x_test, y = y_test, batch_size=32, verbose=1)\n",
    "#0.5833 would be wrong\n",
    "incept_model.evaluate(x=x_val, y = y_val, batch_size=32, verbose=1)"
   ]
  },
  {
   "cell_type": "code",
   "execution_count": null,
   "metadata": {},
   "outputs": [],
   "source": [
    "# open train the last 100 layers\n",
    "for layer in incept_model.layers[720:]:\n",
    "    layer.trainable = True\n",
    "    \n",
    "# compile the model with new optimizer and lr=.0001\n",
    "incept_model.compile(optimizer=optimizers.RMSprop(.0001), loss = losses.categorical_crossentropy, metrics=[metrics.CategoricalAccuracy()])\n",
    "\n",
    "# incept_model.summary()"
   ]
  },
  {
   "cell_type": "code",
   "execution_count": null,
   "metadata": {},
   "outputs": [],
   "source": [
    "earlyStop = keras.callbacks.EarlyStopping(patience=60) \n",
    "best_model = keras.callbacks.ModelCheckpoint(filepath='good_model_mixup_2.h5', save_best_only=True) \n",
    "\n",
    "# load the best weights\n",
    "# incept_model.set_weights(best_weights)\n",
    "\n",
    "with tf.device('/gpu:0'):\n",
    "    history = incept_model.fit(x_train, y_train, batch_size=32, epochs=EPOCHS, validation_data=(x_val, y_val), callbacks=[earlyStop, best_model]) "
   ]
  },
  {
   "cell_type": "code",
   "execution_count": null,
   "metadata": {},
   "outputs": [],
   "source": [
    "model = keras.models.load_model(\"basic_model_mixup.h5\")\n",
    "\n",
    "basic_results = model.predict(x_test)\n",
    "\n",
    "argmax_preds = [np.argmax(r) for r in basic_results] # 0 if no tumour, 1 if yes tumour\n",
    "\n",
    "labels = [label[1] for label in y_test] # 0 if Demented\n",
    "\n",
    "acc = sklearn.metrics.accuracy_score(labels,argmax_preds)\n",
    "f1 = sklearn.metrics.f1_score(labels,argmax_preds,pos_label=0)\n",
    "print(acc,f1)"
   ]
  },
  {
   "cell_type": "code",
   "execution_count": null,
   "metadata": {},
   "outputs": [],
   "source": [
    "# basic_results = model.predict(x_train)\n",
    "\n",
    "# argmax_preds = [np.argmax(r) for r in basic_results] # 0 if no tumour, 1 if yes tumour\n",
    "\n",
    "# labels = [label[1] for label in y_train] # 0 if Demented\n",
    "\n",
    "# acc = sklearn.metrics.accuracy_score(labels,argmax_preds)\n",
    "# f1 = sklearn.metrics.f1_score(labels,argmax_preds,pos_label=0)\n",
    "# print(acc,f1)"
   ]
  },
  {
   "cell_type": "code",
   "execution_count": null,
   "metadata": {},
   "outputs": [],
   "source": [
    "model.evaluate(x=x_val, y = y_val, batch_size=32, verbose=1)"
   ]
  }
 ],
 "metadata": {
  "kernelspec": {
   "display_name": "Python 3",
   "language": "python",
   "name": "python3"
  },
  "language_info": {
   "codemirror_mode": {
    "name": "ipython",
    "version": 3
   },
   "file_extension": ".py",
   "mimetype": "text/x-python",
   "name": "python",
   "nbconvert_exporter": "python",
   "pygments_lexer": "ipython3",
   "version": "3.11.3"
  }
 },
 "nbformat": 4,
 "nbformat_minor": 2
}
