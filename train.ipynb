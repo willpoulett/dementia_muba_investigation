{
 "cells": [
  {
   "cell_type": "markdown",
   "metadata": {},
   "source": [
    "# Basic Training\n",
    "No mixup in Training"
   ]
  },
  {
   "cell_type": "code",
   "execution_count": 1,
   "metadata": {},
   "outputs": [],
   "source": [
    "import os, glob, re, cv2\n",
    "import numpy as np\n",
    "import pandas as pd\n",
    "import matplotlib.pyplot as plt\n",
    "import tensorflow as tf\n",
    "import random\n",
    "\n",
    "import matplotlib.pyplot as plt\n",
    "%matplotlib inline\n",
    "\n",
    "import seaborn as sns\n",
    "\n",
    "from sklearn.model_selection import train_test_split\n",
    "\n",
    "from tensorflow import keras\n",
    "from tensorflow.keras import layers, activations, optimizers, losses, metrics, initializers\n",
    "from tensorflow.keras.preprocessing import image, image_dataset_from_directory\n",
    "from tensorflow.keras.applications.resnet_v2 import preprocess_input, decode_predictions\n",
    "\n",
    "import sklearn\n",
    "from keras import utils\n",
    "from sklearn.preprocessing import LabelEncoder"
   ]
  },
  {
   "cell_type": "code",
   "execution_count": 2,
   "metadata": {},
   "outputs": [],
   "source": [
    "# dir_path points towards where to find the image dataset\n",
    "dir_path = \"Alzheimer's Disease\"\n",
    "IMAGE_SHAPE = (224, 224)\n",
    "\n",
    "random_sample = 1\n",
    "\n",
    "# IMPORTANT - Check these are correct\n",
    "\n",
    "MIXUP = False # Whether to train the model with mixup\n",
    "ITERS = 60 # How many mixup images to create per image\n",
    "BETA = False # Whether to sample from the beta function\n",
    "AUG = False # whether to augment the data"
   ]
  },
  {
   "cell_type": "code",
   "execution_count": 3,
   "metadata": {},
   "outputs": [
    {
     "data": {
      "text/plain": [
       "(6400, 6400)"
      ]
     },
     "execution_count": 3,
     "metadata": {},
     "output_type": "execute_result"
    }
   ],
   "source": [
    "# Read the folders folders\n",
    "directories = os.listdir(dir_path)\n",
    "\n",
    "files = [] \n",
    "labels = []\n",
    "\n",
    "# Read files for each directory\n",
    "for folder in directories:\n",
    "    \n",
    "    fileList = glob.glob(f'{dir_path}/{folder}/*')\n",
    "    labels.extend([folder for _ in fileList])\n",
    "    files.extend(fileList)\n",
    "\n",
    "len(files), len(labels)"
   ]
  },
  {
   "cell_type": "code",
   "execution_count": 4,
   "metadata": {},
   "outputs": [
    {
     "name": "stdout",
     "output_type": "stream",
     "text": [
      "{'Demented': 3200, 'NonDem': 3200}\n"
     ]
    }
   ],
   "source": [
    "# Count the number of labels to get an idea of how balanced the dataset is\n",
    "unique, counts = np.unique(labels, return_counts=True)\n",
    "print(dict(zip(unique, counts)))"
   ]
  },
  {
   "cell_type": "code",
   "execution_count": 5,
   "metadata": {},
   "outputs": [
    {
     "name": "stdout",
     "output_type": "stream",
     "text": [
      "Classes are ['Demented' 'NonDem']\n"
     ]
    }
   ],
   "source": [
    "# One hot encoding\n",
    "\n",
    "# Encode class values as integers\n",
    "encoder = LabelEncoder()\n",
    "encoder.fit(labels)\n",
    "encoded_Y = encoder.transform(labels)\n",
    "\n",
    "# convert integers to dummy variables (i.e. one hot encoded)\n",
    "dummy_y = utils.to_categorical(encoded_Y,dtype =\"uint8\", num_classes = 2)\n",
    "\n",
    "labels = np.array(dummy_y)\n",
    "\n",
    "print(f\"Classes are {encoder.classes_}\")"
   ]
  },
  {
   "cell_type": "code",
   "execution_count": 6,
   "metadata": {},
   "outputs": [],
   "source": [
    "# The data augmentation to do. This applies a random horizontal flip and a random tilt.\n",
    "data_augmentation = tf.keras.Sequential([\n",
    "  layers.RandomFlip(\"horizontal_and_vertical\"),\n",
    "  layers.RandomRotation((-0.05, 0.05)),\n",
    "])\n",
    "\n",
    "# create prepare_image method\n",
    "# used to preprocess the image for efficientNet model\n",
    "\n",
    "def prepare_image(file1: str, label1: str, file2: str = None, label2: str = None, beta = False, augment = True):\n",
    "    \"\"\"Prepares the image for the model\n",
    "\n",
    "    Args:\n",
    "        file1 (str): The path of  the first image\n",
    "        label1 (str): The label of the first image\n",
    "        file2 (str, optional): The path of  the second image. If not none, applies mixup. Defaults to None.\n",
    "        label2 (str, optional): The label of the second image. Defaults to None.\n",
    "        beta (bool, optional): If true, sample from teh beta function for mixup. Defaults to False.\n",
    "        augment (bool, optional): If true, apply augmentations. Defaults to True.\n",
    "\n",
    "    Returns:\n",
    "        image, label\n",
    "    \"\"\"\n",
    "\n",
    "    # Load the first image, apply augmentations\n",
    "    img1 = image.load_img(file1, target_size=IMAGE_SHAPE)\n",
    "    if augment:\n",
    "        img1 = data_augmentation(img1)\n",
    "        \n",
    "    img_array = image.img_to_array(img1)\n",
    "    label = label1\n",
    "\n",
    "    if file2:\n",
    "\n",
    "        # Load second image, apply augmentations\n",
    "        img2 = image.load_img(file2, target_size=IMAGE_SHAPE)\n",
    "        if augment:\n",
    "            img2 = data_augmentation(img2)\n",
    "        img_array2 = image.img_to_array(img2)\n",
    "\n",
    "        # Generate alpha value for MixUp\n",
    "        alpa = 0\n",
    "        if beta:\n",
    "            alpha = np.random.beta(0.2, 0.2, 1)\n",
    "        else:\n",
    "            alpha = random.random()\n",
    "\n",
    "        # Combine the 2 images \n",
    "        img_array = (alpha * img_array) + ((1-alpha) * img_array2)\n",
    "        label     = (alpha * label1) +    ((1-alpha) * label2)\n",
    "\n",
    "    return tf.keras.applications.efficientnet.preprocess_input(img_array), label"
   ]
  },
  {
   "cell_type": "code",
   "execution_count": 7,
   "metadata": {},
   "outputs": [],
   "source": [
    "# Split the data into testing, training and validation data\n",
    "\n",
    "x_train, x_tv, y_train, y_tv = train_test_split(files, labels, test_size=.05, random_state = random_sample) \n",
    "x_test, x_val, y_test, y_val = train_test_split(x_tv, y_tv, test_size=.5, random_state = random_sample) \n",
    "x_test_A, x_test_B, y_test_A, y_test_B = train_test_split(x_test, y_test, test_size=.7, random_state = random_sample) # Have 2 test sets"
   ]
  },
  {
   "cell_type": "code",
   "execution_count": 8,
   "metadata": {},
   "outputs": [
    {
     "name": "stdout",
     "output_type": "stream",
     "text": [
      "48 112 160 6080\n"
     ]
    }
   ],
   "source": [
    "print(len(x_test_A), len(x_test_B), len(x_val), len(x_train))"
   ]
  },
  {
   "cell_type": "code",
   "execution_count": 9,
   "metadata": {},
   "outputs": [
    {
     "name": "stdout",
     "output_type": "stream",
     "text": [
      "Preparing the images...\n",
      "Preparing training data\n"
     ]
    },
    {
     "name": "stdout",
     "output_type": "stream",
     "text": [
      "Preparing testing data\n",
      "Preparing validation data\n",
      "Finished.\n"
     ]
    }
   ],
   "source": [
    "# The dictionary holds list of images and for each one has its target/label\n",
    "images = {\n",
    "    'image_train': [], \n",
    "    'target_train': [],\n",
    "    'image_test': [], \n",
    "    'target_test': [],\n",
    "    'image_val': [],\n",
    "    'target_val': []\n",
    "}\n",
    "\n",
    "print('Preparing the images...')\n",
    "\n",
    "print(\"Preparing training data\")\n",
    "for file, label in zip(x_train, y_train):\n",
    "    # Only go through training data, testing data should not be used for mixup\n",
    "\n",
    "\n",
    "    if MIXUP == False:\n",
    "        # Prepare image without mixup\n",
    "        new_file, new_label = prepare_image(file, label, beta = BETA, augment = AUG)\n",
    "        images['image_train'].append(new_file)\n",
    "        images['target_train'].append(new_label)\n",
    "\n",
    "    elif MIXUP == True:\n",
    "        # Prepare image with mixup\n",
    "        # Iterate through the number of ITERS\n",
    "        for i in range(ITERS):\n",
    "            diff_label = False\n",
    "            while diff_label == False:\n",
    "                # Select a random file index\n",
    "                random_file_i = random.randint(0,len(files)-1)\n",
    "                # Mixup the two images\n",
    "                new_file, new_label = prepare_image(file, label, files[random_file_i],labels[random_file_i], beta = BETA, augment = AUG)\n",
    "                \n",
    "                if new_label[0] != label[0]:\n",
    "                    diff_label = True\n",
    "\n",
    "            images['image_train'].append(new_file)\n",
    "            images['target_train'].append(new_label)\n",
    "\n",
    "print(\"Preparing testing data\")\n",
    "for file, label in zip(x_test_A, y_test_A):\n",
    "\n",
    "    # Prepare the image\n",
    "    new_file, new_label = prepare_image(file, label, beta = BETA, augment = AUG)\n",
    "    images['image_test'].append(new_file)\n",
    "    images['target_test'].append(new_label)\n",
    "\n",
    "print(\"Preparing validation data\")\n",
    "for file, label in zip(x_val, y_val):\n",
    "\n",
    "    # Prepare the image\n",
    "    new_file, new_label = prepare_image(file, label, beta = BETA, augment = AUG)\n",
    "    images['image_val'].append(new_file)\n",
    "    images['target_val'].append(new_label)\n",
    "\n",
    "print('Finished.')"
   ]
  },
  {
   "cell_type": "code",
   "execution_count": 10,
   "metadata": {},
   "outputs": [
    {
     "name": "stdout",
     "output_type": "stream",
     "text": [
      "Demented: 3045  Non Demented: 3035\n"
     ]
    }
   ],
   "source": [
    "class_counts = [sum(col) for col in zip(*images['target_train'])]\n",
    "print(f\"Demented: {class_counts[0]}  Non Demented: {class_counts[1]}\")"
   ]
  },
  {
   "cell_type": "code",
   "execution_count": 11,
   "metadata": {},
   "outputs": [],
   "source": [
    "# convert lists to arrays \n",
    "x_train = np.array(images['image_train'])\n",
    "y_train = np.array(images['target_train'])\n",
    "x_test  = np.array(images['image_test'])\n",
    "y_test  = np.array(images['target_test'])\n",
    "x_val   = np.array(images['image_val'])\n",
    "y_val   = np.array(images['target_val'])"
   ]
  },
  {
   "cell_type": "code",
   "execution_count": 12,
   "metadata": {},
   "outputs": [],
   "source": [
    "# The code is creating a ResNet152V2 model with pre-trained weights from the ImageNet dataset. \n",
    "# The base model is frozen, meaning its weights will not be updated during training. \n",
    "# The code then appends additional layers on top of the base model for transfer learning.\n",
    "\n",
    "from tensorflow.keras.applications import resnet_v2\n",
    "base_model = resnet_v2.ResNet152V2(\n",
    "    include_top=False,\n",
    "    weights='imagenet',\n",
    "    input_shape=(*IMAGE_SHAPE, 3),\n",
    "    classes=3)\n",
    "\n",
    "# Freeze the base_model\n",
    "base_model.trainable = False\n",
    "\n",
    "# append my own layers on the top of the model for Transfer Learning\n",
    "x = base_model.output\n",
    "\n",
    "# 1st conv block\n",
    "x = layers.Conv2D(256, 3, padding='same')(x)\n",
    "x = layers.BatchNormalization()(x)\n",
    "x = layers.Activation('relu')(x)\n",
    "x = layers.GlobalAveragePooling2D(keepdims = True)(x)\n",
    "\n",
    "# 2nd conv block\n",
    "x = layers.Conv2D(128, 3, padding='same')(x)\n",
    "x = layers.BatchNormalization()(x)\n",
    "x = layers.Activation('relu')(x)\n",
    "x = layers.GlobalAveragePooling2D(keepdims = True)(x)\n",
    "\n",
    "# 1st FC layer\n",
    "x = layers.Flatten()(x) \n",
    "x = layers.Dense(64)(x)\n",
    "x = layers.BatchNormalization()(x)\n",
    "x = layers.Activation('relu')(x)\n",
    "\n",
    "# 2nd FC layer\n",
    "x = layers.Dense(32, activation = 'relu')(x)\n",
    "x = layers.BatchNormalization()(x)\n",
    "x = layers.Activation('relu')(x)\n",
    "x = layers.Dropout(.2)(x)\n",
    "\n",
    "x = layers.Dense(2, 'softmax')(x)\n",
    "\n",
    "incept_model = keras.models.Model(inputs = base_model.input, outputs = x)\n",
    "\n",
    "# compile the model\n",
    "incept_model.compile(optimizer=optimizers.RMSprop(.001), loss = losses.categorical_crossentropy, metrics= [metrics.CategoricalAccuracy()])\n",
    "\n",
    "# incept_model.summary()"
   ]
  },
  {
   "cell_type": "code",
   "execution_count": 13,
   "metadata": {},
   "outputs": [
    {
     "name": "stdout",
     "output_type": "stream",
     "text": [
      "Epoch 1/30\n",
      "190/190 [==============================] - ETA: 0s - loss: 0.6739 - categorical_accuracy: 0.6410"
     ]
    },
    {
     "name": "stderr",
     "output_type": "stream",
     "text": [
      "c:\\Users\\Will Poulett\\AppData\\Local\\Programs\\Python\\Python311\\Lib\\site-packages\\keras\\src\\engine\\training.py:3000: UserWarning: You are saving your model as an HDF5 file via `model.save()`. This file format is considered legacy. We recommend using instead the native Keras format, e.g. `model.save('my_model.keras')`.\n",
      "  saving_api.save_model(\n"
     ]
    },
    {
     "name": "stdout",
     "output_type": "stream",
     "text": [
      "190/190 [==============================] - 461s 2s/step - loss: 0.6739 - categorical_accuracy: 0.6410 - val_loss: 0.7314 - val_categorical_accuracy: 0.6125\n",
      "Epoch 2/30\n",
      "190/190 [==============================] - 438s 2s/step - loss: 0.6116 - categorical_accuracy: 0.6778 - val_loss: 0.5587 - val_categorical_accuracy: 0.6875\n",
      "Epoch 3/30\n",
      "190/190 [==============================] - 429s 2s/step - loss: 0.5756 - categorical_accuracy: 0.6967 - val_loss: 0.7790 - val_categorical_accuracy: 0.5750\n",
      "Epoch 4/30\n",
      "190/190 [==============================] - 445s 2s/step - loss: 0.5520 - categorical_accuracy: 0.7130 - val_loss: 2.4625 - val_categorical_accuracy: 0.5625\n",
      "Epoch 5/30\n",
      "190/190 [==============================] - 455s 2s/step - loss: 0.5256 - categorical_accuracy: 0.7309 - val_loss: 2.9212 - val_categorical_accuracy: 0.4437\n",
      "Epoch 6/30\n",
      "190/190 [==============================] - 461s 2s/step - loss: 0.5097 - categorical_accuracy: 0.7405 - val_loss: 1.6276 - val_categorical_accuracy: 0.5562\n",
      "Epoch 7/30\n",
      "190/190 [==============================] - 474s 2s/step - loss: 0.4995 - categorical_accuracy: 0.7559 - val_loss: 1.2364 - val_categorical_accuracy: 0.7000\n",
      "Epoch 8/30\n",
      "190/190 [==============================] - 526s 3s/step - loss: 0.4826 - categorical_accuracy: 0.7691 - val_loss: 16.9356 - val_categorical_accuracy: 0.4437\n",
      "Epoch 9/30\n",
      "190/190 [==============================] - 538s 3s/step - loss: 0.4692 - categorical_accuracy: 0.7714 - val_loss: 0.8063 - val_categorical_accuracy: 0.6250\n",
      "Epoch 10/30\n",
      "190/190 [==============================] - 513s 3s/step - loss: 0.4561 - categorical_accuracy: 0.7837 - val_loss: 5.0130 - val_categorical_accuracy: 0.5562\n",
      "Epoch 11/30\n",
      "190/190 [==============================] - 481s 3s/step - loss: 0.4535 - categorical_accuracy: 0.7857 - val_loss: 1.0116 - val_categorical_accuracy: 0.7312\n",
      "Epoch 12/30\n",
      "190/190 [==============================] - 474s 2s/step - loss: 0.4288 - categorical_accuracy: 0.7952 - val_loss: 0.5951 - val_categorical_accuracy: 0.7375\n",
      "Epoch 13/30\n",
      "190/190 [==============================] - 490s 3s/step - loss: 0.4166 - categorical_accuracy: 0.8067 - val_loss: 2.7296 - val_categorical_accuracy: 0.5813\n",
      "Epoch 14/30\n",
      "190/190 [==============================] - 477s 3s/step - loss: 0.4076 - categorical_accuracy: 0.8163 - val_loss: 4.5886 - val_categorical_accuracy: 0.5562\n",
      "Epoch 15/30\n",
      "190/190 [==============================] - 475s 2s/step - loss: 0.3847 - categorical_accuracy: 0.8322 - val_loss: 2.9604 - val_categorical_accuracy: 0.5562\n",
      "Epoch 16/30\n",
      "190/190 [==============================] - 473s 2s/step - loss: 0.3701 - categorical_accuracy: 0.8331 - val_loss: 1.3048 - val_categorical_accuracy: 0.7500\n",
      "Epoch 17/30\n",
      "190/190 [==============================] - 463s 2s/step - loss: 0.3552 - categorical_accuracy: 0.8444 - val_loss: 7.3501 - val_categorical_accuracy: 0.5562\n",
      "Epoch 18/30\n",
      "190/190 [==============================] - 473s 2s/step - loss: 0.3368 - categorical_accuracy: 0.8533 - val_loss: 5.7134 - val_categorical_accuracy: 0.5562\n",
      "Epoch 19/30\n",
      "190/190 [==============================] - 480s 3s/step - loss: 0.3474 - categorical_accuracy: 0.8500 - val_loss: 4.5898 - val_categorical_accuracy: 0.4437\n",
      "Epoch 20/30\n",
      "190/190 [==============================] - 473s 2s/step - loss: 0.3319 - categorical_accuracy: 0.8579 - val_loss: 1.6117 - val_categorical_accuracy: 0.7688\n",
      "Epoch 21/30\n",
      "190/190 [==============================] - 473s 2s/step - loss: 0.3080 - categorical_accuracy: 0.8656 - val_loss: 2.5773 - val_categorical_accuracy: 0.6938\n",
      "Epoch 22/30\n",
      "190/190 [==============================] - 470s 2s/step - loss: 0.2999 - categorical_accuracy: 0.8679 - val_loss: 1.4442 - val_categorical_accuracy: 0.6562\n",
      "Epoch 23/30\n",
      "190/190 [==============================] - 475s 2s/step - loss: 0.2852 - categorical_accuracy: 0.8844 - val_loss: 8.4620 - val_categorical_accuracy: 0.5562\n",
      "Epoch 24/30\n",
      "190/190 [==============================] - 457s 2s/step - loss: 0.2850 - categorical_accuracy: 0.8798 - val_loss: 1.4318 - val_categorical_accuracy: 0.7500\n",
      "Epoch 25/30\n",
      "190/190 [==============================] - 464s 2s/step - loss: 0.2877 - categorical_accuracy: 0.8814 - val_loss: 3.3960 - val_categorical_accuracy: 0.5688\n",
      "Epoch 26/30\n",
      "190/190 [==============================] - 468s 2s/step - loss: 0.2758 - categorical_accuracy: 0.8832 - val_loss: 9.5563 - val_categorical_accuracy: 0.5562\n",
      "Epoch 27/30\n",
      "190/190 [==============================] - 471s 2s/step - loss: 0.2620 - categorical_accuracy: 0.8929 - val_loss: 1.1022 - val_categorical_accuracy: 0.6812\n",
      "Epoch 28/30\n",
      "190/190 [==============================] - 455s 2s/step - loss: 0.2675 - categorical_accuracy: 0.8888 - val_loss: 8.7227 - val_categorical_accuracy: 0.5562\n",
      "Epoch 29/30\n",
      "190/190 [==============================] - 448s 2s/step - loss: 0.2534 - categorical_accuracy: 0.8964 - val_loss: 2.6437 - val_categorical_accuracy: 0.5125\n",
      "Epoch 30/30\n",
      "190/190 [==============================] - 481s 3s/step - loss: 0.2343 - categorical_accuracy: 0.9064 - val_loss: 1.2990 - val_categorical_accuracy: 0.6375\n"
     ]
    }
   ],
   "source": [
    "EPOCHS = 30\n",
    "# Trains and returns incept_model. fit ( x_train y_train )\n",
    "earlyStop = keras.callbacks.EarlyStopping(patience=60) \n",
    "best_model = keras.callbacks.ModelCheckpoint(filepath='basic_model.h5', save_best_only=True) \n",
    "\n",
    "with tf.device('/gpu:0'):\n",
    "    history = incept_model.fit(x_train, y_train, batch_size=32, epochs=EPOCHS, validation_data=(x_val, y_val), callbacks=[earlyStop, best_model])"
   ]
  },
  {
   "cell_type": "code",
   "execution_count": 14,
   "metadata": {},
   "outputs": [
    {
     "name": "stdout",
     "output_type": "stream",
     "text": [
      "2/2 [==============================] - 6s 1s/step - loss: 0.6383 - categorical_accuracy: 0.5833\n"
     ]
    },
    {
     "data": {
      "text/plain": [
       "[0.6383242011070251, 0.5833333134651184]"
      ]
     },
     "execution_count": 14,
     "metadata": {},
     "output_type": "execute_result"
    }
   ],
   "source": [
    "# Load the model with the best validation score\n",
    "incept_model = keras.models.load_model(\"basic_model.h5\")\n",
    "\n",
    "incept_model.evaluate(x=x_test, y = y_test, batch_size=32, verbose=1)"
   ]
  },
  {
   "cell_type": "code",
   "execution_count": 15,
   "metadata": {},
   "outputs": [],
   "source": [
    "# open train the last 100 layers\n",
    "for layer in incept_model.layers[720:]:\n",
    "    layer.trainable = True\n",
    "    \n",
    "# compile the model with new optimizer and lr=.0001\n",
    "incept_model.compile(optimizer=optimizers.RMSprop(.0001), loss = losses.categorical_crossentropy, metrics=[metrics.CategoricalAccuracy()])\n",
    "\n",
    "# incept_model.summary()"
   ]
  },
  {
   "cell_type": "code",
   "execution_count": 16,
   "metadata": {},
   "outputs": [
    {
     "name": "stdout",
     "output_type": "stream",
     "text": [
      "Epoch 1/30\n",
      "190/190 [==============================] - 538s 3s/step - loss: 0.5630 - categorical_accuracy: 0.7053 - val_loss: 0.7878 - val_categorical_accuracy: 0.4437\n",
      "Epoch 2/30\n",
      "190/190 [==============================] - 525s 3s/step - loss: 0.5428 - categorical_accuracy: 0.7166 - val_loss: 0.6531 - val_categorical_accuracy: 0.6313\n",
      "Epoch 3/30\n",
      "190/190 [==============================] - 518s 3s/step - loss: 0.5298 - categorical_accuracy: 0.7247 - val_loss: 0.5295 - val_categorical_accuracy: 0.6687\n",
      "Epoch 4/30\n",
      "190/190 [==============================] - 537s 3s/step - loss: 0.5148 - categorical_accuracy: 0.7398 - val_loss: 0.4997 - val_categorical_accuracy: 0.7625\n",
      "Epoch 5/30\n",
      "190/190 [==============================] - 560s 3s/step - loss: 0.5080 - categorical_accuracy: 0.7488 - val_loss: 0.8697 - val_categorical_accuracy: 0.7437\n",
      "Epoch 6/30\n",
      "190/190 [==============================] - 549s 3s/step - loss: 0.4952 - categorical_accuracy: 0.7528 - val_loss: 0.8402 - val_categorical_accuracy: 0.5188\n",
      "Epoch 7/30\n",
      "190/190 [==============================] - 476s 3s/step - loss: 0.4785 - categorical_accuracy: 0.7653 - val_loss: 0.6854 - val_categorical_accuracy: 0.6687\n",
      "Epoch 8/30\n",
      "190/190 [==============================] - 1284s 7s/step - loss: 0.4702 - categorical_accuracy: 0.7704 - val_loss: 1.3727 - val_categorical_accuracy: 0.7188\n",
      "Epoch 9/30\n",
      "190/190 [==============================] - 449s 2s/step - loss: 0.4646 - categorical_accuracy: 0.7743 - val_loss: 3.3208 - val_categorical_accuracy: 0.5562\n",
      "Epoch 10/30\n",
      "190/190 [==============================] - 519s 3s/step - loss: 0.4551 - categorical_accuracy: 0.7822 - val_loss: 0.5551 - val_categorical_accuracy: 0.6938\n",
      "Epoch 11/30\n",
      "190/190 [==============================] - 538s 3s/step - loss: 0.4405 - categorical_accuracy: 0.7898 - val_loss: 1.2670 - val_categorical_accuracy: 0.6062\n",
      "Epoch 12/30\n",
      "190/190 [==============================] - 568s 3s/step - loss: 0.4333 - categorical_accuracy: 0.7954 - val_loss: 2.4412 - val_categorical_accuracy: 0.5625\n",
      "Epoch 13/30\n",
      "190/190 [==============================] - 570s 3s/step - loss: 0.4209 - categorical_accuracy: 0.8061 - val_loss: 3.3458 - val_categorical_accuracy: 0.5750\n",
      "Epoch 14/30\n",
      "190/190 [==============================] - 567s 3s/step - loss: 0.4081 - categorical_accuracy: 0.8113 - val_loss: 1.9211 - val_categorical_accuracy: 0.5625\n",
      "Epoch 15/30\n",
      "190/190 [==============================] - 564s 3s/step - loss: 0.4014 - categorical_accuracy: 0.8160 - val_loss: 2.1718 - val_categorical_accuracy: 0.5500\n",
      "Epoch 16/30\n",
      "190/190 [==============================] - 578s 3s/step - loss: 0.3852 - categorical_accuracy: 0.8289 - val_loss: 0.7956 - val_categorical_accuracy: 0.7375\n",
      "Epoch 17/30\n",
      "190/190 [==============================] - 525s 3s/step - loss: 0.3712 - categorical_accuracy: 0.8337 - val_loss: 7.1103 - val_categorical_accuracy: 0.5562\n",
      "Epoch 18/30\n",
      "190/190 [==============================] - 488s 3s/step - loss: 0.3641 - categorical_accuracy: 0.8405 - val_loss: 1.5823 - val_categorical_accuracy: 0.3562\n",
      "Epoch 19/30\n",
      "190/190 [==============================] - 3170s 17s/step - loss: 0.3517 - categorical_accuracy: 0.8472 - val_loss: 6.1199 - val_categorical_accuracy: 0.5688\n",
      "Epoch 20/30\n",
      "190/190 [==============================] - 420s 2s/step - loss: 0.3392 - categorical_accuracy: 0.8533 - val_loss: 7.8125 - val_categorical_accuracy: 0.5562\n",
      "Epoch 21/30\n",
      "190/190 [==============================] - 419s 2s/step - loss: 0.3316 - categorical_accuracy: 0.8539 - val_loss: 9.2983 - val_categorical_accuracy: 0.5562\n",
      "Epoch 22/30\n",
      "190/190 [==============================] - 433s 2s/step - loss: 0.3237 - categorical_accuracy: 0.8661 - val_loss: 2.2592 - val_categorical_accuracy: 0.5688\n",
      "Epoch 23/30\n",
      "190/190 [==============================] - 432s 2s/step - loss: 0.3107 - categorical_accuracy: 0.8724 - val_loss: 0.4664 - val_categorical_accuracy: 0.7563\n",
      "Epoch 24/30\n",
      "190/190 [==============================] - 434s 2s/step - loss: 0.2978 - categorical_accuracy: 0.8753 - val_loss: 2.5314 - val_categorical_accuracy: 0.5000\n",
      "Epoch 25/30\n",
      "190/190 [==============================] - 429s 2s/step - loss: 0.2944 - categorical_accuracy: 0.8743 - val_loss: 0.9845 - val_categorical_accuracy: 0.5688\n",
      "Epoch 26/30\n",
      "190/190 [==============================] - 441s 2s/step - loss: 0.2879 - categorical_accuracy: 0.8801 - val_loss: 0.7632 - val_categorical_accuracy: 0.7188\n",
      "Epoch 27/30\n",
      "190/190 [==============================] - 433s 2s/step - loss: 0.2746 - categorical_accuracy: 0.8860 - val_loss: 7.0118 - val_categorical_accuracy: 0.4500\n",
      "Epoch 28/30\n",
      "190/190 [==============================] - 435s 2s/step - loss: 0.2746 - categorical_accuracy: 0.8868 - val_loss: 1.8176 - val_categorical_accuracy: 0.6938\n",
      "Epoch 29/30\n",
      "190/190 [==============================] - 436s 2s/step - loss: 0.2522 - categorical_accuracy: 0.8972 - val_loss: 1.4614 - val_categorical_accuracy: 0.6687\n",
      "Epoch 30/30\n",
      "190/190 [==============================] - 436s 2s/step - loss: 0.2538 - categorical_accuracy: 0.8980 - val_loss: 3.9293 - val_categorical_accuracy: 0.6062\n"
     ]
    }
   ],
   "source": [
    "earlyStop = keras.callbacks.EarlyStopping(patience=60) \n",
    "best_model = keras.callbacks.ModelCheckpoint(filepath='basic_model_2.h5', save_best_only=True) \n",
    "\n",
    "# load the best weights\n",
    "# incept_model.set_weights(best_weights)\n",
    "\n",
    "with tf.device('/gpu:0'):\n",
    "    history = incept_model.fit(x_train, y_train, batch_size=32, epochs=EPOCHS, validation_data=(x_val, y_val), callbacks=[earlyStop, best_model]) "
   ]
  },
  {
   "cell_type": "code",
   "execution_count": 18,
   "metadata": {},
   "outputs": [
    {
     "name": "stdout",
     "output_type": "stream",
     "text": [
      "2/2 [==============================] - 5s 1s/step\n",
      "0.8125 0.8\n"
     ]
    }
   ],
   "source": [
    "model = keras.models.load_model(\"basic_model_2.h5\")\n",
    "\n",
    "basic_results = model.predict(x_test)\n",
    "\n",
    "argmax_preds = [np.argmax(r) for r in basic_results] # 0 if no tumour, 1 if yes tumour\n",
    "\n",
    "labels = [label[1] for label in y_test] # 0 if Demented\n",
    "\n",
    "acc = sklearn.metrics.accuracy_score(labels,argmax_preds)\n",
    "f1 = sklearn.metrics.f1_score(labels,argmax_preds,pos_label=1)\n",
    "print(acc,f1)"
   ]
  }
 ],
 "metadata": {
  "kernelspec": {
   "display_name": "Python 3",
   "language": "python",
   "name": "python3"
  },
  "language_info": {
   "codemirror_mode": {
    "name": "ipython",
    "version": 3
   },
   "file_extension": ".py",
   "mimetype": "text/x-python",
   "name": "python",
   "nbconvert_exporter": "python",
   "pygments_lexer": "ipython3",
   "version": "3.11.3"
  }
 },
 "nbformat": 4,
 "nbformat_minor": 2
}
