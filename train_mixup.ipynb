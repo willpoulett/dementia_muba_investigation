{
 "cells": [
  {
   "cell_type": "markdown",
   "metadata": {},
   "source": [
    "# Basic Training\n",
    "No mixup in Training"
   ]
  },
  {
   "cell_type": "code",
   "execution_count": 1,
   "metadata": {},
   "outputs": [],
   "source": [
    "import os, glob, re, cv2\n",
    "import numpy as np\n",
    "import pandas as pd\n",
    "import matplotlib.pyplot as plt\n",
    "import tensorflow as tf\n",
    "import random\n",
    "\n",
    "import matplotlib.pyplot as plt\n",
    "%matplotlib inline\n",
    "\n",
    "import seaborn as sns\n",
    "\n",
    "from sklearn.model_selection import train_test_split\n",
    "\n",
    "from tensorflow import keras\n",
    "from tensorflow.keras import layers, activations, optimizers, losses, metrics, initializers\n",
    "from tensorflow.keras.preprocessing import image, image_dataset_from_directory\n",
    "from tensorflow.keras.applications.resnet_v2 import preprocess_input, decode_predictions\n",
    "\n",
    "import sklearn\n",
    "from keras import utils\n",
    "from sklearn.preprocessing import LabelEncoder"
   ]
  },
  {
   "cell_type": "code",
   "execution_count": 2,
   "metadata": {},
   "outputs": [],
   "source": [
    "# dir_path points towards where to find the image dataset\n",
    "dir_path = \"Alzheimer's Disease\"\n",
    "IMAGE_SHAPE = (224, 224)\n",
    "\n",
    "random_sample = 1\n",
    "\n",
    "# IMPORTANT - Check these are correct\n",
    "\n",
    "MIXUP = True # Whether to train the model with mixup\n",
    "ITERS = 1 # How many mixup images to create per image\n",
    "BETA = True # Whether to sample from the beta function\n",
    "AUG = False # whether to augment the data"
   ]
  },
  {
   "cell_type": "code",
   "execution_count": 3,
   "metadata": {},
   "outputs": [
    {
     "data": {
      "text/plain": [
       "(6400, 6400)"
      ]
     },
     "execution_count": 3,
     "metadata": {},
     "output_type": "execute_result"
    }
   ],
   "source": [
    "# Read the folders folders\n",
    "directories = os.listdir(dir_path)\n",
    "\n",
    "files = [] \n",
    "labels = []\n",
    "\n",
    "# Read files for each directory\n",
    "for folder in directories:\n",
    "    \n",
    "    fileList = glob.glob(f'{dir_path}/{folder}/*')\n",
    "    labels.extend([folder for _ in fileList])\n",
    "    files.extend(fileList)\n",
    "\n",
    "len(files), len(labels)"
   ]
  },
  {
   "cell_type": "code",
   "execution_count": 4,
   "metadata": {},
   "outputs": [
    {
     "name": "stdout",
     "output_type": "stream",
     "text": [
      "{'Demented': 3200, 'NonDem': 3200}\n"
     ]
    }
   ],
   "source": [
    "# Count the number of labels to get an idea of how balanced the dataset is\n",
    "unique, counts = np.unique(labels, return_counts=True)\n",
    "print(dict(zip(unique, counts)))"
   ]
  },
  {
   "cell_type": "code",
   "execution_count": 5,
   "metadata": {},
   "outputs": [
    {
     "name": "stdout",
     "output_type": "stream",
     "text": [
      "Classes are ['Demented' 'NonDem']\n"
     ]
    }
   ],
   "source": [
    "# One hot encoding\n",
    "\n",
    "# Encode class values as integers\n",
    "encoder = LabelEncoder()\n",
    "encoder.fit(labels)\n",
    "encoded_Y = encoder.transform(labels)\n",
    "\n",
    "# convert integers to dummy variables (i.e. one hot encoded)\n",
    "dummy_y = utils.to_categorical(encoded_Y,dtype =\"uint8\", num_classes = 2)\n",
    "\n",
    "labels = np.array(dummy_y)\n",
    "\n",
    "print(f\"Classes are {encoder.classes_}\")"
   ]
  },
  {
   "cell_type": "code",
   "execution_count": 6,
   "metadata": {},
   "outputs": [],
   "source": [
    "# The data augmentation to do. This applies a random horizontal flip and a random tilt.\n",
    "data_augmentation = tf.keras.Sequential([\n",
    "  layers.RandomFlip(\"horizontal_and_vertical\"),\n",
    "  layers.RandomRotation((-0.05, 0.05)),\n",
    "])\n",
    "\n",
    "# create prepare_image method\n",
    "# used to preprocess the image for efficientNet model\n",
    "\n",
    "def prepare_image(file1: str, label1: str, file2: str = None, label2: str = None, beta = False, augment = True):\n",
    "    \"\"\"Prepares the image for the model\n",
    "\n",
    "    Args:\n",
    "        file1 (str): The path of  the first image\n",
    "        label1 (str): The label of the first image\n",
    "        file2 (str, optional): The path of  the second image. If not none, applies mixup. Defaults to None.\n",
    "        label2 (str, optional): The label of the second image. Defaults to None.\n",
    "        beta (bool, optional): If true, sample from teh beta function for mixup. Defaults to False.\n",
    "        augment (bool, optional): If true, apply augmentations. Defaults to True.\n",
    "\n",
    "    Returns:\n",
    "        image, label\n",
    "    \"\"\"\n",
    "\n",
    "    # Load the first image, apply augmentations\n",
    "    img1 = image.load_img(file1, target_size=IMAGE_SHAPE)\n",
    "    if augment:\n",
    "        img1 = data_augmentation(img1)\n",
    "        \n",
    "    img_array = image.img_to_array(img1)\n",
    "    label = label1\n",
    "\n",
    "    if file2:\n",
    "\n",
    "        # Load second image, apply augmentations\n",
    "        img2 = image.load_img(file2, target_size=IMAGE_SHAPE)\n",
    "        if augment:\n",
    "            img2 = data_augmentation(img2)\n",
    "        img_array2 = image.img_to_array(img2)\n",
    "\n",
    "        # Generate alpha value for MixUp\n",
    "        alpa = 0\n",
    "        if beta:\n",
    "            alpha = np.random.beta(0.2, 0.2, 1)\n",
    "        else:\n",
    "            alpha = random.random()\n",
    "\n",
    "        # Combine the 2 images \n",
    "        img_array = (alpha * img_array) + ((1-alpha) * img_array2)\n",
    "        label     = (alpha * label1) +    ((1-alpha) * label2)\n",
    "\n",
    "    return tf.keras.applications.efficientnet.preprocess_input(img_array), label"
   ]
  },
  {
   "cell_type": "code",
   "execution_count": 7,
   "metadata": {},
   "outputs": [],
   "source": [
    "# Split the data into testing, training and validation data\n",
    "\n",
    "x_train, x_tv, y_train, y_tv = train_test_split(files, labels, test_size=.05, random_state = random_sample) \n",
    "x_test, x_val, y_test, y_val = train_test_split(x_tv, y_tv, test_size=.5, random_state = random_sample) \n",
    "x_test_A, x_test_B, y_test_A, y_test_B = train_test_split(x_test, y_test, test_size=.7, random_state = random_sample) # Have 2 test sets"
   ]
  },
  {
   "cell_type": "code",
   "execution_count": 8,
   "metadata": {},
   "outputs": [
    {
     "name": "stdout",
     "output_type": "stream",
     "text": [
      "48 112 160 6080\n"
     ]
    }
   ],
   "source": [
    "print(len(x_test_A), len(x_test_B), len(x_val), len(x_train))"
   ]
  },
  {
   "cell_type": "code",
   "execution_count": 9,
   "metadata": {},
   "outputs": [
    {
     "name": "stdout",
     "output_type": "stream",
     "text": [
      "Preparing the images...\n",
      "Preparing training data\n",
      "Preparing testing data\n",
      "Preparing validation data\n",
      "Finished.\n"
     ]
    }
   ],
   "source": [
    "# The dictionary holds list of images and for each one has its target/label\n",
    "images = {\n",
    "    'image_train': [], \n",
    "    'target_train': [],\n",
    "    'image_test': [], \n",
    "    'target_test': [],\n",
    "    'image_val': [],\n",
    "    'target_val': []\n",
    "}\n",
    "\n",
    "print('Preparing the images...')\n",
    "\n",
    "print(\"Preparing training data\")\n",
    "for file, label in zip(x_train, y_train):\n",
    "    # Only go through training data, testing data should not be used for mixup\n",
    "\n",
    "\n",
    "    if MIXUP == False:\n",
    "        # Prepare image without mixup\n",
    "        new_file, new_label = prepare_image(file, label, beta = BETA, augment = AUG)\n",
    "        images['image_train'].append(new_file)\n",
    "        images['target_train'].append(new_label)\n",
    "\n",
    "    elif MIXUP == True:\n",
    "        # Prepare image with mixup\n",
    "        # Iterate through the number of ITERS\n",
    "        for i in range(ITERS):\n",
    "            diff_label = False\n",
    "            \n",
    "            while diff_label == False:\n",
    "                # Select a random file index\n",
    "                random_file_i = random.randint(0,len(files)-1)\n",
    "                # Mixup the two images\n",
    "                new_file, new_label = prepare_image(file, label, files[random_file_i],labels[random_file_i], beta = BETA, augment = AUG)\n",
    "                \n",
    "                if new_label[0] != label[0]:\n",
    "                    diff_label = True\n",
    "\n",
    "            images['image_train'].append(new_file)\n",
    "            images['target_train'].append(new_label)\n",
    "\n",
    "print(\"Preparing testing data\")\n",
    "for file, label in zip(x_test_A, y_test_A):\n",
    "\n",
    "    # Prepare the image\n",
    "    new_file, new_label = prepare_image(file, label, beta = BETA, augment = AUG)\n",
    "    images['image_test'].append(new_file)\n",
    "    images['target_test'].append(new_label)\n",
    "\n",
    "print(\"Preparing validation data\")\n",
    "for file, label in zip(x_val, y_val):\n",
    "\n",
    "    # Prepare the image\n",
    "    new_file, new_label = prepare_image(file, label, beta = BETA, augment = AUG)\n",
    "    images['image_val'].append(new_file)\n",
    "    images['target_val'].append(new_label)\n",
    "\n",
    "print('Finished.')"
   ]
  },
  {
   "cell_type": "code",
   "execution_count": 10,
   "metadata": {},
   "outputs": [
    {
     "name": "stdout",
     "output_type": "stream",
     "text": [
      "Demented: 3043.664194841916  Non Demented: 3036.335805158083\n"
     ]
    }
   ],
   "source": [
    "class_counts = [sum(col) for col in zip(*images['target_train'])]\n",
    "print(f\"Demented: {class_counts[0]}  Non Demented: {class_counts[1]}\")"
   ]
  },
  {
   "cell_type": "code",
   "execution_count": 11,
   "metadata": {},
   "outputs": [],
   "source": [
    "# convert lists to arrays \n",
    "x_train = np.array(images['image_train'])\n",
    "y_train = np.array(images['target_train'])\n",
    "x_test  = np.array(images['image_test'])\n",
    "y_test  = np.array(images['target_test'])\n",
    "x_val   = np.array(images['image_val'])\n",
    "y_val   = np.array(images['target_val'])"
   ]
  },
  {
   "cell_type": "code",
   "execution_count": 12,
   "metadata": {},
   "outputs": [],
   "source": [
    "# The code is creating a ResNet152V2 model with pre-trained weights from the ImageNet dataset. \n",
    "# The base model is frozen, meaning its weights will not be updated during training. \n",
    "# The code then appends additional layers on top of the base model for transfer learning.\n",
    "\n",
    "from tensorflow.keras.applications import resnet_v2\n",
    "base_model = resnet_v2.ResNet152V2(\n",
    "    include_top=False,\n",
    "    weights='imagenet',\n",
    "    input_shape=(*IMAGE_SHAPE, 3),\n",
    "    classes=3)\n",
    "\n",
    "# Freeze the base_model\n",
    "base_model.trainable = False\n",
    "\n",
    "# append my own layers on the top of the model for Transfer Learning\n",
    "x = base_model.output\n",
    "\n",
    "# 1st conv block\n",
    "x = layers.Conv2D(256, 3, padding='same')(x)\n",
    "x = layers.BatchNormalization()(x)\n",
    "x = layers.Activation('relu')(x)\n",
    "x = layers.GlobalAveragePooling2D(keepdims = True)(x)\n",
    "\n",
    "# 2nd conv block\n",
    "x = layers.Conv2D(128, 3, padding='same')(x)\n",
    "x = layers.BatchNormalization()(x)\n",
    "x = layers.Activation('relu')(x)\n",
    "x = layers.GlobalAveragePooling2D(keepdims = True)(x)\n",
    "\n",
    "# 1st FC layer\n",
    "x = layers.Flatten()(x) \n",
    "x = layers.Dense(64)(x)\n",
    "x = layers.BatchNormalization()(x)\n",
    "x = layers.Activation('relu')(x)\n",
    "\n",
    "# 2nd FC layer\n",
    "x = layers.Dense(32, activation = 'relu')(x)\n",
    "x = layers.BatchNormalization()(x)\n",
    "x = layers.Activation('relu')(x)\n",
    "x = layers.Dropout(.2)(x)\n",
    "\n",
    "x = layers.Dense(2, 'softmax')(x)\n",
    "\n",
    "incept_model = keras.models.Model(inputs = base_model.input, outputs = x)\n",
    "\n",
    "# compile the model\n",
    "incept_model.compile(optimizer=optimizers.RMSprop(.001), loss = losses.categorical_crossentropy, metrics= [metrics.CategoricalAccuracy()])\n",
    "\n",
    "# incept_model.summary()"
   ]
  },
  {
   "cell_type": "code",
   "execution_count": 13,
   "metadata": {},
   "outputs": [
    {
     "name": "stdout",
     "output_type": "stream",
     "text": [
      "Epoch 1/30\n",
      "190/190 [==============================] - ETA: 0s - loss: 0.7143 - categorical_accuracy: 0.6010"
     ]
    },
    {
     "name": "stderr",
     "output_type": "stream",
     "text": [
      "c:\\Users\\Will Poulett\\AppData\\Local\\Programs\\Python\\Python311\\Lib\\site-packages\\keras\\src\\engine\\training.py:3000: UserWarning: You are saving your model as an HDF5 file via `model.save()`. This file format is considered legacy. We recommend using instead the native Keras format, e.g. `model.save('my_model.keras')`.\n",
      "  saving_api.save_model(\n"
     ]
    },
    {
     "name": "stdout",
     "output_type": "stream",
     "text": [
      "190/190 [==============================] - 446s 2s/step - loss: 0.7143 - categorical_accuracy: 0.6010 - val_loss: 1.7245 - val_categorical_accuracy: 0.5562\n",
      "Epoch 2/30\n",
      "190/190 [==============================] - 443s 2s/step - loss: 0.6573 - categorical_accuracy: 0.6339 - val_loss: 0.7471 - val_categorical_accuracy: 0.4062\n",
      "Epoch 3/30\n",
      "190/190 [==============================] - 444s 2s/step - loss: 0.6401 - categorical_accuracy: 0.6521 - val_loss: 0.7268 - val_categorical_accuracy: 0.5250\n",
      "Epoch 4/30\n",
      "190/190 [==============================] - 433s 2s/step - loss: 0.6225 - categorical_accuracy: 0.6618 - val_loss: 1.5072 - val_categorical_accuracy: 0.5562\n",
      "Epoch 5/30\n",
      "190/190 [==============================] - 459s 2s/step - loss: 0.6009 - categorical_accuracy: 0.6847 - val_loss: 1.2226 - val_categorical_accuracy: 0.4437\n",
      "Epoch 6/30\n",
      "190/190 [==============================] - 462s 2s/step - loss: 0.5939 - categorical_accuracy: 0.6888 - val_loss: 0.7716 - val_categorical_accuracy: 0.6375\n",
      "Epoch 7/30\n",
      "190/190 [==============================] - 465s 2s/step - loss: 0.5838 - categorical_accuracy: 0.7018 - val_loss: 1.3740 - val_categorical_accuracy: 0.5562\n",
      "Epoch 8/30\n",
      "190/190 [==============================] - 474s 2s/step - loss: 0.5729 - categorical_accuracy: 0.7082 - val_loss: 0.9617 - val_categorical_accuracy: 0.5562\n",
      "Epoch 9/30\n",
      "190/190 [==============================] - 468s 2s/step - loss: 0.5668 - categorical_accuracy: 0.7140 - val_loss: 0.9057 - val_categorical_accuracy: 0.6125\n",
      "Epoch 10/30\n",
      "190/190 [==============================] - 465s 2s/step - loss: 0.5541 - categorical_accuracy: 0.7280 - val_loss: 1.2768 - val_categorical_accuracy: 0.6875\n",
      "Epoch 11/30\n",
      "190/190 [==============================] - 504s 3s/step - loss: 0.5441 - categorical_accuracy: 0.7387 - val_loss: 4.7296 - val_categorical_accuracy: 0.4437\n",
      "Epoch 12/30\n",
      "190/190 [==============================] - 530s 3s/step - loss: 0.5411 - categorical_accuracy: 0.7413 - val_loss: 10.7290 - val_categorical_accuracy: 0.5562\n",
      "Epoch 13/30\n",
      "190/190 [==============================] - 516s 3s/step - loss: 0.5253 - categorical_accuracy: 0.7577 - val_loss: 9.4376 - val_categorical_accuracy: 0.5625\n",
      "Epoch 14/30\n",
      "190/190 [==============================] - 497s 3s/step - loss: 0.5262 - categorical_accuracy: 0.7561 - val_loss: 2.9175 - val_categorical_accuracy: 0.4563\n",
      "Epoch 15/30\n",
      "190/190 [==============================] - 528s 3s/step - loss: 0.5229 - categorical_accuracy: 0.7566 - val_loss: 5.4202 - val_categorical_accuracy: 0.5562\n",
      "Epoch 16/30\n",
      "190/190 [==============================] - 524s 3s/step - loss: 0.5124 - categorical_accuracy: 0.7646 - val_loss: 5.0012 - val_categorical_accuracy: 0.5562\n",
      "Epoch 17/30\n",
      "190/190 [==============================] - 510s 3s/step - loss: 0.5023 - categorical_accuracy: 0.7709 - val_loss: 1.0270 - val_categorical_accuracy: 0.5875\n",
      "Epoch 18/30\n",
      "190/190 [==============================] - 462s 2s/step - loss: 0.4995 - categorical_accuracy: 0.7748 - val_loss: 2.6487 - val_categorical_accuracy: 0.4437\n",
      "Epoch 19/30\n",
      "190/190 [==============================] - 454s 2s/step - loss: 0.4868 - categorical_accuracy: 0.7812 - val_loss: 0.9836 - val_categorical_accuracy: 0.4125\n",
      "Epoch 20/30\n",
      "190/190 [==============================] - 450s 2s/step - loss: 0.4931 - categorical_accuracy: 0.7765 - val_loss: 7.3085 - val_categorical_accuracy: 0.5750\n",
      "Epoch 21/30\n",
      "190/190 [==============================] - 450s 2s/step - loss: 0.4800 - categorical_accuracy: 0.7974 - val_loss: 0.6711 - val_categorical_accuracy: 0.7000\n",
      "Epoch 22/30\n",
      "190/190 [==============================] - 442s 2s/step - loss: 0.4703 - categorical_accuracy: 0.7997 - val_loss: 1.5419 - val_categorical_accuracy: 0.5562\n",
      "Epoch 23/30\n",
      "190/190 [==============================] - 438s 2s/step - loss: 0.4638 - categorical_accuracy: 0.8021 - val_loss: 3.6947 - val_categorical_accuracy: 0.5688\n",
      "Epoch 24/30\n",
      "190/190 [==============================] - 464s 2s/step - loss: 0.4573 - categorical_accuracy: 0.8038 - val_loss: 6.3771 - val_categorical_accuracy: 0.5625\n",
      "Epoch 25/30\n",
      "190/190 [==============================] - 464s 2s/step - loss: 0.4578 - categorical_accuracy: 0.8064 - val_loss: 2.6108 - val_categorical_accuracy: 0.5562\n",
      "Epoch 26/30\n",
      "190/190 [==============================] - 459s 2s/step - loss: 0.4562 - categorical_accuracy: 0.8089 - val_loss: 9.8230 - val_categorical_accuracy: 0.5813\n",
      "Epoch 27/30\n",
      "190/190 [==============================] - 456s 2s/step - loss: 0.4450 - categorical_accuracy: 0.8160 - val_loss: 13.5751 - val_categorical_accuracy: 0.5562\n",
      "Epoch 28/30\n",
      "190/190 [==============================] - 464s 2s/step - loss: 0.4396 - categorical_accuracy: 0.8247 - val_loss: 2.8876 - val_categorical_accuracy: 0.5562\n",
      "Epoch 29/30\n",
      "190/190 [==============================] - 474s 2s/step - loss: 0.4384 - categorical_accuracy: 0.8212 - val_loss: 13.4949 - val_categorical_accuracy: 0.4437\n",
      "Epoch 30/30\n",
      "190/190 [==============================] - 473s 2s/step - loss: 0.4427 - categorical_accuracy: 0.8217 - val_loss: 5.7635 - val_categorical_accuracy: 0.6000\n"
     ]
    }
   ],
   "source": [
    "EPOCHS = 30\n",
    "# Trains and returns incept_model. fit ( x_train y_train )\n",
    "earlyStop = keras.callbacks.EarlyStopping(patience=60) \n",
    "best_model = keras.callbacks.ModelCheckpoint(filepath='basic_model_mixup.h5', save_best_only=True) \n",
    "\n",
    "with tf.device('/gpu:0'):\n",
    "    history = incept_model.fit(x_train, y_train, batch_size=32, epochs=EPOCHS, validation_data=(x_val, y_val), callbacks=[earlyStop, best_model])"
   ]
  },
  {
   "cell_type": "code",
   "execution_count": 14,
   "metadata": {},
   "outputs": [
    {
     "name": "stdout",
     "output_type": "stream",
     "text": [
      "2/2 [==============================] - 5s 1s/step - loss: 0.9523 - categorical_accuracy: 0.6042\n",
      "5/5 [==============================] - 11s 2s/step - loss: 0.6711 - categorical_accuracy: 0.7000\n"
     ]
    },
    {
     "data": {
      "text/plain": [
       "[0.6711381673812866, 0.699999988079071]"
      ]
     },
     "execution_count": 14,
     "metadata": {},
     "output_type": "execute_result"
    }
   ],
   "source": [
    "# Load the model with the best validation score\n",
    "incept_model = keras.models.load_model(\"basic_model_mixup.h5\")\n",
    "\n",
    "incept_model.evaluate(x=x_test, y = y_test, batch_size=32, verbose=1)\n",
    "#0.5833 would be wrong\n",
    "incept_model.evaluate(x=x_val, y = y_val, batch_size=32, verbose=1)"
   ]
  },
  {
   "cell_type": "code",
   "execution_count": 15,
   "metadata": {},
   "outputs": [],
   "source": [
    "# open train the last 100 layers\n",
    "for layer in incept_model.layers[720:]:\n",
    "    layer.trainable = True\n",
    "    \n",
    "# compile the model with new optimizer and lr=.0001\n",
    "incept_model.compile(optimizer=optimizers.RMSprop(.0001), loss = losses.categorical_crossentropy, metrics=[metrics.CategoricalAccuracy()])\n",
    "\n",
    "# incept_model.summary()"
   ]
  },
  {
   "cell_type": "code",
   "execution_count": 16,
   "metadata": {},
   "outputs": [
    {
     "name": "stdout",
     "output_type": "stream",
     "text": [
      "Epoch 1/30\n",
      "190/190 [==============================] - 483s 3s/step - loss: 0.4364 - categorical_accuracy: 0.8224 - val_loss: 0.5599 - val_categorical_accuracy: 0.7188\n",
      "Epoch 2/30\n",
      "190/190 [==============================] - 470s 2s/step - loss: 0.4229 - categorical_accuracy: 0.8303 - val_loss: 0.5964 - val_categorical_accuracy: 0.6687\n",
      "Epoch 3/30\n",
      "190/190 [==============================] - 463s 2s/step - loss: 0.4164 - categorical_accuracy: 0.8349 - val_loss: 0.5153 - val_categorical_accuracy: 0.7063\n",
      "Epoch 4/30\n",
      "190/190 [==============================] - 466s 2s/step - loss: 0.4084 - categorical_accuracy: 0.8424 - val_loss: 0.7646 - val_categorical_accuracy: 0.7063\n",
      "Epoch 5/30\n",
      "190/190 [==============================] - 2351s 12s/step - loss: 0.4041 - categorical_accuracy: 0.8414 - val_loss: 0.5827 - val_categorical_accuracy: 0.7312\n",
      "Epoch 6/30\n",
      "190/190 [==============================] - 415s 2s/step - loss: 0.3948 - categorical_accuracy: 0.8479 - val_loss: 1.0904 - val_categorical_accuracy: 0.7188\n",
      "Epoch 7/30\n",
      "190/190 [==============================] - 433s 2s/step - loss: 0.4006 - categorical_accuracy: 0.8456 - val_loss: 1.3258 - val_categorical_accuracy: 0.6875\n",
      "Epoch 8/30\n",
      "190/190 [==============================] - 433s 2s/step - loss: 0.3969 - categorical_accuracy: 0.8449 - val_loss: 0.7898 - val_categorical_accuracy: 0.6812\n",
      "Epoch 9/30\n",
      "190/190 [==============================] - 458s 2s/step - loss: 0.3997 - categorical_accuracy: 0.8452 - val_loss: 0.5942 - val_categorical_accuracy: 0.6313\n",
      "Epoch 10/30\n",
      "190/190 [==============================] - 453s 2s/step - loss: 0.3918 - categorical_accuracy: 0.8549 - val_loss: 2.1768 - val_categorical_accuracy: 0.5938\n",
      "Epoch 11/30\n",
      "190/190 [==============================] - 455s 2s/step - loss: 0.3895 - categorical_accuracy: 0.8572 - val_loss: 2.2739 - val_categorical_accuracy: 0.5813\n",
      "Epoch 12/30\n",
      "190/190 [==============================] - 440s 2s/step - loss: 0.3911 - categorical_accuracy: 0.8566 - val_loss: 2.7285 - val_categorical_accuracy: 0.5875\n",
      "Epoch 13/30\n",
      "190/190 [==============================] - 426s 2s/step - loss: 0.3845 - categorical_accuracy: 0.8564 - val_loss: 3.1055 - val_categorical_accuracy: 0.5000\n",
      "Epoch 14/30\n",
      "190/190 [==============================] - 1289s 7s/step - loss: 0.3850 - categorical_accuracy: 0.8535 - val_loss: 2.5441 - val_categorical_accuracy: 0.6062\n",
      "Epoch 15/30\n",
      "190/190 [==============================] - 417s 2s/step - loss: 0.3806 - categorical_accuracy: 0.8581 - val_loss: 4.1517 - val_categorical_accuracy: 0.6250\n",
      "Epoch 16/30\n",
      "190/190 [==============================] - 460s 2s/step - loss: 0.3768 - categorical_accuracy: 0.8660 - val_loss: 1.0539 - val_categorical_accuracy: 0.6500\n",
      "Epoch 17/30\n",
      "190/190 [==============================] - 472s 2s/step - loss: 0.3731 - categorical_accuracy: 0.8617 - val_loss: 0.8802 - val_categorical_accuracy: 0.7812\n",
      "Epoch 18/30\n",
      "190/190 [==============================] - 446s 2s/step - loss: 0.3776 - categorical_accuracy: 0.8620 - val_loss: 1.8671 - val_categorical_accuracy: 0.6812\n",
      "Epoch 19/30\n",
      "190/190 [==============================] - 459s 2s/step - loss: 0.3704 - categorical_accuracy: 0.8669 - val_loss: 0.5665 - val_categorical_accuracy: 0.7625\n",
      "Epoch 20/30\n",
      "190/190 [==============================] - 452s 2s/step - loss: 0.3711 - categorical_accuracy: 0.8623 - val_loss: 0.3447 - val_categorical_accuracy: 0.8750\n",
      "Epoch 21/30\n",
      "190/190 [==============================] - 471s 2s/step - loss: 0.3591 - categorical_accuracy: 0.8704 - val_loss: 2.8537 - val_categorical_accuracy: 0.5875\n",
      "Epoch 22/30\n",
      "190/190 [==============================] - 463s 2s/step - loss: 0.3658 - categorical_accuracy: 0.8668 - val_loss: 1.4791 - val_categorical_accuracy: 0.6125\n",
      "Epoch 23/30\n",
      "190/190 [==============================] - 464s 2s/step - loss: 0.3694 - categorical_accuracy: 0.8645 - val_loss: 2.6108 - val_categorical_accuracy: 0.6812\n",
      "Epoch 24/30\n",
      "190/190 [==============================] - 462s 2s/step - loss: 0.3620 - categorical_accuracy: 0.8707 - val_loss: 4.1173 - val_categorical_accuracy: 0.5688\n",
      "Epoch 25/30\n",
      "190/190 [==============================] - 462s 2s/step - loss: 0.3607 - categorical_accuracy: 0.8691 - val_loss: 6.3384 - val_categorical_accuracy: 0.5625\n",
      "Epoch 26/30\n",
      "190/190 [==============================] - 466s 2s/step - loss: 0.3571 - categorical_accuracy: 0.8729 - val_loss: 0.5711 - val_categorical_accuracy: 0.7563\n",
      "Epoch 27/30\n",
      "190/190 [==============================] - 452s 2s/step - loss: 0.3509 - categorical_accuracy: 0.8804 - val_loss: 1.6400 - val_categorical_accuracy: 0.6313\n",
      "Epoch 28/30\n",
      "190/190 [==============================] - 458s 2s/step - loss: 0.3633 - categorical_accuracy: 0.8701 - val_loss: 0.8907 - val_categorical_accuracy: 0.6625\n",
      "Epoch 29/30\n",
      "190/190 [==============================] - 481s 3s/step - loss: 0.3548 - categorical_accuracy: 0.8771 - val_loss: 2.0952 - val_categorical_accuracy: 0.5688\n",
      "Epoch 30/30\n",
      "190/190 [==============================] - 460s 2s/step - loss: 0.3571 - categorical_accuracy: 0.8729 - val_loss: 0.7575 - val_categorical_accuracy: 0.7875\n"
     ]
    }
   ],
   "source": [
    "earlyStop = keras.callbacks.EarlyStopping(patience=60) \n",
    "best_model = keras.callbacks.ModelCheckpoint(filepath='basic_model_mixup_2.h5', save_best_only=True) \n",
    "\n",
    "# load the best weights\n",
    "# incept_model.set_weights(best_weights)\n",
    "\n",
    "with tf.device('/gpu:0'):\n",
    "    history = incept_model.fit(x_train, y_train, batch_size=32, epochs=EPOCHS, validation_data=(x_val, y_val), callbacks=[earlyStop, best_model]) "
   ]
  },
  {
   "cell_type": "code",
   "execution_count": 21,
   "metadata": {},
   "outputs": [
    {
     "name": "stdout",
     "output_type": "stream",
     "text": [
      "2/2 [==============================] - 5s 1s/step\n",
      "0.6041666666666666 0.42424242424242425\n"
     ]
    }
   ],
   "source": [
    "model = keras.models.load_model(\"basic_model_mixup.h5\")\n",
    "\n",
    "basic_results = model.predict(x_test)\n",
    "\n",
    "argmax_preds = [np.argmax(r) for r in basic_results] # 0 if no tumour, 1 if yes tumour\n",
    "\n",
    "labels = [label[1] for label in y_test] # 0 if Demented\n",
    "\n",
    "acc = sklearn.metrics.accuracy_score(labels,argmax_preds)\n",
    "f1 = sklearn.metrics.f1_score(labels,argmax_preds,pos_label=0)\n",
    "print(acc,f1)"
   ]
  },
  {
   "cell_type": "code",
   "execution_count": 18,
   "metadata": {},
   "outputs": [],
   "source": [
    "# basic_results = model.predict(x_train)\n",
    "\n",
    "# argmax_preds = [np.argmax(r) for r in basic_results] # 0 if no tumour, 1 if yes tumour\n",
    "\n",
    "# labels = [label[1] for label in y_train] # 0 if Demented\n",
    "\n",
    "# acc = sklearn.metrics.accuracy_score(labels,argmax_preds)\n",
    "# f1 = sklearn.metrics.f1_score(labels,argmax_preds,pos_label=0)\n",
    "# print(acc,f1)"
   ]
  },
  {
   "cell_type": "code",
   "execution_count": 22,
   "metadata": {},
   "outputs": [
    {
     "name": "stdout",
     "output_type": "stream",
     "text": [
      "5/5 [==============================] - 12s 2s/step - loss: 0.6711 - categorical_accuracy: 0.7000\n"
     ]
    },
    {
     "data": {
      "text/plain": [
       "[0.6711381673812866, 0.699999988079071]"
      ]
     },
     "execution_count": 22,
     "metadata": {},
     "output_type": "execute_result"
    }
   ],
   "source": [
    "model.evaluate(x=x_val, y = y_val, batch_size=32, verbose=1)"
   ]
  }
 ],
 "metadata": {
  "kernelspec": {
   "display_name": "Python 3",
   "language": "python",
   "name": "python3"
  },
  "language_info": {
   "codemirror_mode": {
    "name": "ipython",
    "version": 3
   },
   "file_extension": ".py",
   "mimetype": "text/x-python",
   "name": "python",
   "nbconvert_exporter": "python",
   "pygments_lexer": "ipython3",
   "version": "3.11.3"
  }
 },
 "nbformat": 4,
 "nbformat_minor": 2
}
